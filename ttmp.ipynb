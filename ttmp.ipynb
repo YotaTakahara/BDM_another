{
 "cells": [
  {
   "cell_type": "code",
   "execution_count": null,
   "metadata": {},
   "outputs": [],
   "source": [
    "### arucoマーカーを生成して、画像として保存する\n",
    "import cv2\n",
    "from cv2 import aruco\n",
    "import os\n",
    "\n",
    "### --- parameter --- ###\n",
    "\n",
    "# マーカーの保存先\n",
    "dir_mark = r'C:\\test'\n",
    "\n",
    "# 生成するマーカー用のパラメータ\n",
    "num_mark = 20 #個数\n",
    "size_mark = 500 #マーカーのサイズ\n",
    "\n",
    "### --- マーカーを生成して保存する --- ###\n",
    "# マーカー種類を呼び出し\n",
    "dict_aruco = aruco.Dictionary_get(aruco.DICT_4X4_50)\n",
    "\n",
    "for count in range(num_mark) :\n",
    "\n",
    "    id_mark = count #countをidとして流用\n",
    "    img_mark = aruco.drawMarker(dict_aruco, id_mark, size_mark)\n",
    "\n",
    "    if count < 10 :\n",
    "        img_name_mark = 'mark_id_0' + str(count) + '.jpg'\n",
    "    else :\n",
    "        img_name_mark = 'mark_id_' + str(count) + '.jpg'\n",
    "    path_mark = os.path.join(dir_mark, img_name_mark)\n",
    "\n",
    "    cv2.imwrite(path_mark, img_mark)"
   ]
  },
  {
   "cell_type": "code",
   "execution_count": null,
   "metadata": {},
   "outputs": [],
   "source": []
  }
 ],
 "metadata": {
  "language_info": {
   "name": "plaintext"
  },
  "orig_nbformat": 4
 },
 "nbformat": 4,
 "nbformat_minor": 2
}
